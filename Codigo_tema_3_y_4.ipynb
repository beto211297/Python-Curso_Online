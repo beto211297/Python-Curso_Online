{
  "nbformat": 4,
  "nbformat_minor": 0,
  "metadata": {
    "colab": {
      "name": "Codigo_tema_3_y_4.ipynb",
      "provenance": [],
      "authorship_tag": "ABX9TyP6NwGRCgzRohkSleiGEfnI",
      "include_colab_link": true
    },
    "kernelspec": {
      "name": "python3",
      "display_name": "Python 3"
    }
  },
  "cells": [
    {
      "cell_type": "markdown",
      "metadata": {
        "id": "view-in-github",
        "colab_type": "text"
      },
      "source": [
        "<a href=\"https://colab.research.google.com/github/beto211297/Python-Curso_Online/blob/main/Codigo_tema_3_y_4.ipynb\" target=\"_parent\"><img src=\"https://colab.research.google.com/assets/colab-badge.svg\" alt=\"Open In Colab\"/></a>"
      ]
    },
    {
      "cell_type": "code",
      "metadata": {
        "colab": {
          "base_uri": "https://localhost:8080/"
        },
        "id": "3fQBIE1zactO",
        "outputId": "eade33ed-84b8-4cc7-8f6a-659b0bd5daf6"
      },
      "source": [
        "#VARIABLES\r\n",
        "\r\n",
        "numero = 17 \r\n",
        "decimal = 0.7\r\n",
        "texto = \"Texto\"\r\n",
        "booleanos = True\r\n",
        "\r\n",
        "print(booleanos)\r\n",
        "print(type(booleanos))\r\n"
      ],
      "execution_count": 4,
      "outputs": [
        {
          "output_type": "stream",
          "text": [
            "True\n",
            "<class 'bool'>\n"
          ],
          "name": "stdout"
        }
      ]
    },
    {
      "cell_type": "code",
      "metadata": {
        "colab": {
          "base_uri": "https://localhost:8080/"
        },
        "id": "0oEwBtsCbM-w",
        "outputId": "5db90054-c3ae-414b-be06-24adcb618c78"
      },
      "source": [
        "tupla = ()\r\n",
        "lista = []\r\n",
        "set_ = {2:2, 1:5}\r\n",
        "\r\n",
        "print()"
      ],
      "execution_count": 6,
      "outputs": [
        {
          "output_type": "stream",
          "text": [
            "\n"
          ],
          "name": "stdout"
        }
      ]
    },
    {
      "cell_type": "code",
      "metadata": {
        "colab": {
          "base_uri": "https://localhost:8080/"
        },
        "id": "4A25zkdcdrH4",
        "outputId": "ef60df9f-4aa8-4fac-c5b7-a454d3accc3d"
      },
      "source": [
        "a = 3\r\n",
        "b = \"12\"\r\n",
        "c = a * b\r\n",
        "print(c)"
      ],
      "execution_count": 11,
      "outputs": [
        {
          "output_type": "stream",
          "text": [
            "121212\n"
          ],
          "name": "stdout"
        }
      ]
    },
    {
      "cell_type": "code",
      "metadata": {
        "colab": {
          "base_uri": "https://localhost:8080/"
        },
        "id": "OUx_8HfgedMZ",
        "outputId": "5d29e9bb-3bb3-46ae-c1cf-593c676af894"
      },
      "source": [
        "r = \"12.7\"\r\n",
        "print(type(r))\r\n",
        "r = str(r)\r\n",
        "#r= float(r)\r\n",
        "print(type(r))\r\n",
        "#s = r + 2\r\n",
        "s = \"numero: \" + r\r\n",
        "#s = r + 2\r\n",
        "print(s)"
      ],
      "execution_count": 20,
      "outputs": [
        {
          "output_type": "stream",
          "text": [
            "<class 'str'>\n",
            "<class 'float'>\n",
            "14.7\n"
          ],
          "name": "stdout"
        }
      ]
    },
    {
      "cell_type": "code",
      "metadata": {
        "colab": {
          "base_uri": "https://localhost:8080/"
        },
        "id": "q0R9IvIcpx1V",
        "outputId": "7f90480a-0cff-49d4-cc7a-95678520fcf9"
      },
      "source": [
        "Edad = input(\"Introduce tu edad: \")\r\n",
        "print(type(Edad))\r\n",
        "Edad_num = float(Edad)\r\n",
        "print(type(Edad_num)) "
      ],
      "execution_count": 28,
      "outputs": [
        {
          "output_type": "stream",
          "text": [
            "Introduce tu edad: 23\n",
            "<class 'str'>\n",
            "<class 'float'>\n"
          ],
          "name": "stdout"
        }
      ]
    },
    {
      "cell_type": "code",
      "metadata": {
        "colab": {
          "base_uri": "https://localhost:8080/"
        },
        "id": "lD6qgYEdqyHB",
        "outputId": "db85f412-85d4-480a-dcad-8c05cabe2dfc"
      },
      "source": [
        "Edad = float(input(\"Introduce tu edad: \"))\r\n",
        "print(type(Edad))\r\n",
        "Edad_nueva = Edad * 2 -2\r\n",
        "print(Edad_nueva)"
      ],
      "execution_count": 31,
      "outputs": [
        {
          "output_type": "stream",
          "text": [
            "Introduce tu edad: 23\n",
            "<class 'float'>\n",
            "44.0\n"
          ],
          "name": "stdout"
        }
      ]
    }
  ]
}